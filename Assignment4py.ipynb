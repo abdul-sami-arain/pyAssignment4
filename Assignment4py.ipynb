{
 "cells": [
  {
   "cell_type": "code",
   "execution_count": 1,
   "metadata": {},
   "outputs": [
    {
     "name": "stdout",
     "output_type": "stream",
     "text": [
      "Enter Your 1st Number= 34\n",
      "Enter Your 2nd number= 35\n",
      "Enter Your Desired Operator(+,-,*,/,**)= +\n",
      "34 + 35 = 69\n"
     ]
    }
   ],
   "source": [
    "#Make a calculator using python with addition, subtraction, multiplication, division and power\n",
    "\n",
    "a = int(input(\"Enter Your 1st Number= \"))\n",
    "b = int(input(\"Enter Your 2nd number= \"))\n",
    "c = input(\"Enter Your Desired Operator(+,-,*,/,**)= \")\n",
    "if c==\"+\":\n",
    "    d = a+b\n",
    "    print(a, \"+\", b, \"=\", d)\n",
    "if c==\"-\":\n",
    "    d = a-b\n",
    "    print(a, \"-\", b, \"=\", d)\n",
    "if c==\"*\":\n",
    "    d = a*b\n",
    "    print(a, \"*\", b, \"=\", d)\n",
    "if c==\"/\":\n",
    "    d = a/b\n",
    "    print(a, \"/\", b, \"=\", d)\n",
    "if c==\"**\":\n",
    "    d = a**b\n",
    "    print(a,\"^\",b, \"=\", d)"
   ]
  },
  {
   "cell_type": "code",
   "execution_count": 3,
   "metadata": {},
   "outputs": [
    {
     "name": "stdout",
     "output_type": "stream",
     "text": [
      "Numeric value found which is 9\n",
      "Numeric value found which is 5\n"
     ]
    }
   ],
   "source": [
    "#Write a program to check if there is any numeric value in list using for loop\n",
    "a=[\"a\",\"b\",\"c\",\"r\",9,5]\n",
    "\n",
    "for i in a:\n",
    "    if type(i)==int:\n",
    "        print(\"Numeric value found which is\",i)\n",
    "   \n",
    "if type(i)!=int:\n",
    "    print(\"No numeric value found\")   "
   ]
  },
  {
   "cell_type": "code",
   "execution_count": 5,
   "metadata": {},
   "outputs": [
    {
     "name": "stdout",
     "output_type": "stream",
     "text": [
      "{'key1': 'value1', 'Key2': 'value2', 'Key3': 'value3', 'Key4': 'value4'}\n"
     ]
    }
   ],
   "source": [
    "#Write a python script to add a key to a dictionary\n",
    "a={\"key1\":\"value1\",\"Key2\":\"value2\",\"Key3\":\"value3\"}\n",
    "a[\"Key4\"]=\"value4\"\n",
    "print(a)"
   ]
  },
  {
   "cell_type": "code",
   "execution_count": 6,
   "metadata": {},
   "outputs": [
    {
     "name": "stdout",
     "output_type": "stream",
     "text": [
      "110\n",
      "114\n"
     ]
    }
   ],
   "source": [
    "#Write a python program to sum all the numeric items in a dictionary\n",
    "a={11:12,22:23,33:34,44:45}\n",
    "sum=0\n",
    "for i in a:\n",
    "    sum=sum+i\n",
    "print(sum)\n",
    "sum=0\n",
    "for j in a.values():\n",
    "    sum=sum+j\n",
    "print(sum)"
   ]
  },
  {
   "cell_type": "code",
   "execution_count": 7,
   "metadata": {},
   "outputs": [
    {
     "name": "stdout",
     "output_type": "stream",
     "text": [
      "Enter any key: were\n",
      "ket is not present\n"
     ]
    }
   ],
   "source": [
    "#Write a python script tp check if a given key already exists in a dictionary\n",
    "a={\"fast\":\"fastest\",\"marks\":[1,2,3],\"cool\":\"coolest\"}\n",
    "b=input(\"Enter any key: \")\n",
    "if b in a.keys():\n",
    "    print(\"key is present\")\n",
    "if b not in a.keys():\n",
    "    print(\"ket is not present\")"
   ]
  },
  {
   "cell_type": "code",
   "execution_count": null,
   "metadata": {},
   "outputs": [],
   "source": []
  }
 ],
 "metadata": {
  "kernelspec": {
   "display_name": "Python 3",
   "language": "python",
   "name": "python3"
  },
  "language_info": {
   "codemirror_mode": {
    "name": "ipython",
    "version": 3
   },
   "file_extension": ".py",
   "mimetype": "text/x-python",
   "name": "python",
   "nbconvert_exporter": "python",
   "pygments_lexer": "ipython3",
   "version": "3.7.6"
  }
 },
 "nbformat": 4,
 "nbformat_minor": 4
}
